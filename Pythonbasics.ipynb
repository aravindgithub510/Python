{
 "cells": [
  {
   "cell_type": "code",
   "execution_count": 1,
   "id": "080fae8e-9e87-4777-a844-e0ff50d21614",
   "metadata": {},
   "outputs": [],
   "source": [
    "#python --> easy syntax, interpreted,prebuilt libraries and methods,oops(object oriented programming)"
   ]
  },
  {
   "cell_type": "code",
   "execution_count": 2,
   "id": "77e15b81-4312-447b-8bfd-9f891903dae0",
   "metadata": {},
   "outputs": [],
   "source": [
    "# helpful in complex mathematical calculations reqd for data science"
   ]
  },
  {
   "cell_type": "code",
   "execution_count": 3,
   "id": "fc7e9c3d-0111-4153-bb0b-e8cf8febe51f",
   "metadata": {},
   "outputs": [],
   "source": [
    "#handle big data\n",
    "#create web applications"
   ]
  },
  {
   "cell_type": "code",
   "execution_count": 4,
   "id": "9947ceea-35ee-437c-83e9-82d198fcb568",
   "metadata": {},
   "outputs": [
    {
     "name": "stdout",
     "output_type": "stream",
     "text": [
      "Hello World!\n"
     ]
    }
   ],
   "source": [
    "print(\"Hello World!\")  #shift+enter ===pre-built method to print something on screen"
   ]
  },
  {
   "cell_type": "code",
   "execution_count": 5,
   "id": "aeb8ddab-9962-444a-a3ea-5b32c640a7a6",
   "metadata": {},
   "outputs": [
    {
     "name": "stdin",
     "output_type": "stream",
     "text": [
      "Enter you email: hi\n"
     ]
    },
    {
     "data": {
      "text/plain": [
       "'hi'"
      ]
     },
     "execution_count": 5,
     "metadata": {},
     "output_type": "execute_result"
    }
   ],
   "source": [
    "input(\"Enter you email:\") #take user input"
   ]
  },
  {
   "cell_type": "code",
   "execution_count": 6,
   "id": "bdb67e58-9085-4efc-a422-7f9c4ed759dd",
   "metadata": {},
   "outputs": [],
   "source": [
    "#comment --> text written for programmer's reference\n",
    "# hi\n",
    "# how are you doing   ctrl + /"
   ]
  },
  {
   "cell_type": "code",
   "execution_count": 7,
   "id": "fc26a9a3-5ae5-41c5-99fd-7356d94216d2",
   "metadata": {},
   "outputs": [],
   "source": [
    "#VARIABLES  --> something whose values are not fixed\n",
    "#case- sensitive [A x a)"
   ]
  },
  {
   "cell_type": "code",
   "execution_count": 8,
   "id": "575bc1ec-d189-4499-8d72-8402e132fe97",
   "metadata": {},
   "outputs": [
    {
     "name": "stdout",
     "output_type": "stream",
     "text": [
      "30\n"
     ]
    }
   ],
   "source": [
    "a = 30  #value 10 is stored in a memory location with name a\n",
    "print(a)"
   ]
  },
  {
   "cell_type": "code",
   "execution_count": 9,
   "id": "d2cca171-5efa-4ef9-8f2d-eef7fc9bb34f",
   "metadata": {},
   "outputs": [
    {
     "name": "stdout",
     "output_type": "stream",
     "text": [
      "10 10\n"
     ]
    }
   ],
   "source": [
    "a= 10\n",
    "A = 10\n",
    "print(a,A)"
   ]
  },
  {
   "cell_type": "code",
   "execution_count": 10,
   "id": "709734cb-edd5-4f4b-a7dc-c5ad487b74eb",
   "metadata": {},
   "outputs": [],
   "source": [
    "# print = 10 #keywords must not be used"
   ]
  },
  {
   "cell_type": "code",
   "execution_count": 11,
   "id": "ef73e0b9-a74b-42c8-81b7-ab1c051725c8",
   "metadata": {},
   "outputs": [],
   "source": [
    "# print(print)"
   ]
  },
  {
   "cell_type": "code",
   "execution_count": 12,
   "id": "bac1e2fa-2dd7-49fe-9e9a-5b913def70ae",
   "metadata": {},
   "outputs": [],
   "source": [
    "#variable name should be meaningful"
   ]
  },
  {
   "cell_type": "code",
   "execution_count": 13,
   "id": "8209d252-9db4-40f8-8205-31a4ecd8f66a",
   "metadata": {},
   "outputs": [
    {
     "name": "stdout",
     "output_type": "stream",
     "text": [
      "100000\n"
     ]
    }
   ],
   "source": [
    "NEWVARIABLE = 100000\n",
    "print(NEWVARIABLE)   #if u want any value to be constant fr the whole program "
   ]
  },
  {
   "cell_type": "code",
   "execution_count": null,
   "id": "66166717-e603-4604-bf93-a6127ddee777",
   "metadata": {},
   "outputs": [],
   "source": [
    "#multi-word variables \n",
    "# camel case --> myVariableName\n",
    "# pascal case --> MyVariableName\n",
    "# snake case --> my_variable_name"
   ]
  },
  {
   "cell_type": "code",
   "execution_count": 14,
   "id": "085b0ebc-e3f4-4f76-87e7-9ca935876659",
   "metadata": {},
   "outputs": [
    {
     "name": "stdout",
     "output_type": "stream",
     "text": [
      "1 2 3\n",
      "1\n"
     ]
    }
   ],
   "source": [
    "#many values to multiple variable at once\n",
    "x,y,z=1,2,3\n",
    "print(x,y,z)\n",
    "print(x)"
   ]
  },
  {
   "cell_type": "code",
   "execution_count": 15,
   "id": "2e380069-eee1-4e25-803b-78dd936d3e88",
   "metadata": {},
   "outputs": [
    {
     "name": "stdout",
     "output_type": "stream",
     "text": [
      "100 100 100\n"
     ]
    }
   ],
   "source": [
    "#once value to multiple variables\n",
    "p=q=r=100\n",
    "print(p,q,r)"
   ]
  },
  {
   "cell_type": "code",
   "execution_count": 16,
   "id": "dfdb1361-9076-41e3-a398-e542626c3634",
   "metadata": {},
   "outputs": [
    {
     "name": "stdout",
     "output_type": "stream",
     "text": [
      "[1, 2, 3, 4, 5, 6]\n"
     ]
    }
   ],
   "source": [
    "#multiple values in one variable\n",
    "multi_value=[1,2,3,4,5,6]\n",
    "print(multi_value)"
   ]
  },
  {
   "cell_type": "code",
   "execution_count": 17,
   "id": "82b4d443-3904-4cce-9320-c534af05c70d",
   "metadata": {},
   "outputs": [],
   "source": [
    "#datatypes --> what type of data we are using\n",
    "#integers (number) -- negative/positive\n",
    "#float -- decimal 1.2\n",
    "#string -- characters,alphabets,symbols,combination of all \n",
    "#boolean -- true,false/1,0/yes,no"
   ]
  },
  {
   "cell_type": "code",
   "execution_count": 21,
   "id": "afe097cd-12e4-4be6-bf65-5ffb25c996d1",
   "metadata": {},
   "outputs": [
    {
     "name": "stdout",
     "output_type": "stream",
     "text": [
      "<class 'str'>\n"
     ]
    }
   ],
   "source": [
    "x= \"True\"\n",
    "print(type(x))"
   ]
  },
  {
   "cell_type": "code",
   "execution_count": 22,
   "id": "9d1c7435-68d5-4103-aa77-687759535875",
   "metadata": {},
   "outputs": [],
   "source": [
    "# string --> ''single quote , ***\"\"double quotes***, ''' '''(triple quote)"
   ]
  },
  {
   "cell_type": "code",
   "execution_count": 23,
   "id": "1d048537-342c-4d5d-ac00-d266e5ff313d",
   "metadata": {},
   "outputs": [
    {
     "name": "stdout",
     "output_type": "stream",
     "text": [
      " hi\n",
      "hcbskjdcbsjd\n",
      "dbjskdcbsd\n"
     ]
    }
   ],
   "source": [
    "x = ''' hi\n",
    "hcbskjdcbsjd\n",
    "dbjskdcbsd'''\n",
    "print(x)"
   ]
  },
  {
   "cell_type": "code",
   "execution_count": 30,
   "id": "5dcb9ee2-39c0-4f15-a0ea-c7c96d62d46b",
   "metadata": {},
   "outputs": [
    {
     "name": "stdout",
     "output_type": "stream",
     "text": [
      "hey have you seen that movie \"kick\"\n"
     ]
    }
   ],
   "source": [
    "#string representation with multiple quotes\n",
    "\n",
    "conversation = '''hey have you seen that movie \"kick\"'''\n",
    "print(conversation)"
   ]
  },
  {
   "cell_type": "code",
   "execution_count": 35,
   "id": "582ce4c9-7585-4d15-a199-f8701bc579fa",
   "metadata": {},
   "outputs": [
    {
     "name": "stdout",
     "output_type": "stream",
     "text": [
      "<class 'str'>\n",
      "<class 'int'> 6\n"
     ]
    }
   ],
   "source": [
    "x= \"6\"  #string to float  \n",
    "y = int(x)\n",
    "print(type(x))\n",
    "print(type(y),y)\n",
    "#string to int /float is only possible for numbers not characters"
   ]
  },
  {
   "cell_type": "code",
   "execution_count": 1,
   "id": "1f7c0087-e822-4d4b-bcec-14b04a891e44",
   "metadata": {},
   "outputs": [
    {
     "name": "stdout",
     "output_type": "stream",
     "text": [
      "<class 'int'>\n"
     ]
    }
   ],
   "source": [
    "#4 data type\n",
    "x = 70\n",
    "print(type(x))"
   ]
  },
  {
   "cell_type": "code",
   "execution_count": 3,
   "id": "f298dd36-23ea-4bb9-829f-28fadaccf6f2",
   "metadata": {},
   "outputs": [
    {
     "name": "stdout",
     "output_type": "stream",
     "text": [
      "70.0\n",
      "<class 'float'>\n"
     ]
    }
   ],
   "source": [
    "y = float(x)\n",
    "print(y)\n",
    "print(type(y))"
   ]
  },
  {
   "cell_type": "code",
   "execution_count": 4,
   "id": "5c122e81-4b7d-499c-99e9-f2870bc8318b",
   "metadata": {},
   "outputs": [],
   "source": [
    "# num =  125 convert it into string then convert the string into float"
   ]
  },
  {
   "cell_type": "code",
   "execution_count": 7,
   "id": "9c1a186d-7ab4-4ba2-9ff7-1ddd2f682722",
   "metadata": {},
   "outputs": [
    {
     "name": "stdout",
     "output_type": "stream",
     "text": [
      "125 <class 'str'>\n"
     ]
    }
   ],
   "source": [
    "num = 125\n",
    "String = str(num)\n",
    "print(String,type(String))"
   ]
  },
  {
   "cell_type": "code",
   "execution_count": 8,
   "id": "6832362e-869a-4ea5-86a4-8223610417ee",
   "metadata": {},
   "outputs": [
    {
     "name": "stdout",
     "output_type": "stream",
     "text": [
      "125.0 <class 'float'>\n"
     ]
    }
   ],
   "source": [
    "Float = float(String)\n",
    "print(Float,type(Float))"
   ]
  },
  {
   "cell_type": "code",
   "execution_count": 9,
   "id": "0668f8b6-8b4c-4c14-8191-4732dcb97880",
   "metadata": {},
   "outputs": [],
   "source": [
    "#methods - inbuilt functionalities provided by python\n",
    "#string methods - methods used to do operations on strings"
   ]
  },
  {
   "cell_type": "code",
   "execution_count": 12,
   "id": "44a8965c-e636-4e68-8a88-129c1f6e1f77",
   "metadata": {},
   "outputs": [
    {
     "name": "stdout",
     "output_type": "stream",
     "text": [
      "40\n"
     ]
    }
   ],
   "source": [
    "str = \"xygbcksbdcsd bcjksdnclc lskbkdbchbckjdsn\"\n",
    "print(len(str))"
   ]
  },
  {
   "cell_type": "code",
   "execution_count": 14,
   "id": "44434fa9-f569-411e-ba0f-d6c4a7d9887f",
   "metadata": {},
   "outputs": [
    {
     "name": "stdout",
     "output_type": "stream",
     "text": [
      "XYGBCKSBDCSD BCJKSDNCLC LSKBKDBCHBCKJDSN\n"
     ]
    }
   ],
   "source": [
    "str1 = str.upper() #convert all characters in a string to upper case\n",
    "print(str1)"
   ]
  },
  {
   "cell_type": "code",
   "execution_count": 15,
   "id": "dbfc1e4d-2e16-4d1b-a28b-7c85ae6bb54a",
   "metadata": {},
   "outputs": [
    {
     "data": {
      "text/plain": [
       "'xygbcksbdcsd bcjksdnclc lskbkdbchbckjdsn'"
      ]
     },
     "execution_count": 15,
     "metadata": {},
     "output_type": "execute_result"
    }
   ],
   "source": [
    "str1.lower() #convert all characters in a string to lower case"
   ]
  },
  {
   "cell_type": "code",
   "execution_count": 26,
   "id": "3c923a27-3712-4201-b77c-22809270322d",
   "metadata": {},
   "outputs": [
    {
     "name": "stdout",
     "output_type": "stream",
     "text": [
      "Hi how are you, all good?\n"
     ]
    },
    {
     "data": {
      "text/plain": [
       "'Hi How Are You, All Good?'"
      ]
     },
     "execution_count": 26,
     "metadata": {},
     "output_type": "execute_result"
    }
   ],
   "source": [
    "value = \"hi how are you, all good?\"\n",
    "value1 = value.capitalize() #capitalizes 1st letter of sentence\n",
    "print(value1)\n",
    "value.title() #used to capitalize all the words"
   ]
  },
  {
   "cell_type": "code",
   "execution_count": 16,
   "id": "ea4b0f74-f370-4869-b04c-c78aec1f250f",
   "metadata": {},
   "outputs": [
    {
     "name": "stdout",
     "output_type": "stream",
     "text": [
      "22\n"
     ]
    }
   ],
   "source": [
    "str = \"Vikas ANand Kumar Arya\"\n",
    "print(len(str))\n"
   ]
  },
  {
   "cell_type": "code",
   "execution_count": 17,
   "id": "1239bdca-928b-4964-8c3e-684040ff4bef",
   "metadata": {},
   "outputs": [
    {
     "name": "stdout",
     "output_type": "stream",
     "text": [
      "8\n"
     ]
    }
   ],
   "source": [
    "STR=\"abch kll\"\n",
    "print(len(STR))\n"
   ]
  },
  {
   "cell_type": "code",
   "execution_count": 21,
   "id": "6ed8710f-9afa-4e00-be27-8166a9b39b3e",
   "metadata": {},
   "outputs": [
    {
     "name": "stdout",
     "output_type": "stream",
     "text": [
      "53\n",
      "40\n"
     ]
    }
   ],
   "source": [
    "str = \"      xygbcksbdcsd bcjksdnclc lskbkdbchbckjdsn       \" #whitespaces\n",
    "print(len(str)) \n",
    "str1 =str.strip()\n",
    "print(len(str1))"
   ]
  },
  {
   "cell_type": "code",
   "execution_count": 37,
   "id": "74072ac8-c22f-44f2-85ff-a0e174949f18",
   "metadata": {},
   "outputs": [
    {
     "data": {
      "text/plain": [
       "'hello how are you, 4545'"
      ]
     },
     "execution_count": 37,
     "metadata": {},
     "output_type": "execute_result"
    }
   ],
   "source": [
    "value = \"hi how are you, 4545\"\n",
    "value.replace(\"hi\",\"hello\") #string_name.replace(oldword,newword)"
   ]
  },
  {
   "cell_type": "code",
   "execution_count": 38,
   "id": "e2998156-c624-4bd1-b538-50250fe3142f",
   "metadata": {},
   "outputs": [
    {
     "name": "stdout",
     "output_type": "stream",
     "text": [
      "['hi how are you', ' 4545']\n"
     ]
    }
   ],
   "source": [
    "value1 = value.split(\",\") #delimiter\n",
    "print(value1)"
   ]
  },
  {
   "cell_type": "code",
   "execution_count": 31,
   "id": "92fdca38-9de4-49a8-8b29-5c2e326e600b",
   "metadata": {},
   "outputs": [],
   "source": [
    "x = \"hi\""
   ]
  },
  {
   "cell_type": "code",
   "execution_count": 32,
   "id": "03cfbf23-19d5-419c-9efe-9470c4b16142",
   "metadata": {},
   "outputs": [
    {
     "name": "stdout",
     "output_type": "stream",
     "text": [
      "hi\n"
     ]
    }
   ],
   "source": [
    "print(x)"
   ]
  },
  {
   "cell_type": "code",
   "execution_count": 45,
   "id": "c10f78ad-d897-4c69-aa89-535311d3cc2a",
   "metadata": {},
   "outputs": [
    {
     "data": {
      "text/plain": [
       "'o r'"
      ]
     },
     "execution_count": 45,
     "metadata": {},
     "output_type": "execute_result"
    }
   ],
   "source": [
    "value = \"hi how are you, 4545\" \n",
    "value[4:10:2] #stringname[start:end+1:step]"
   ]
  },
  {
   "cell_type": "code",
   "execution_count": 52,
   "id": "10f4fbe5-3916-4c69-adf8-206ca57141cf",
   "metadata": {},
   "outputs": [
    {
     "data": {
      "text/plain": [
       "'34567890'"
      ]
     },
     "execution_count": 52,
     "metadata": {},
     "output_type": "execute_result"
    }
   ],
   "source": [
    "num = \"1234567890\" #0123456789\n",
    "num[2:10]"
   ]
  },
  {
   "cell_type": "code",
   "execution_count": 54,
   "id": "8add346d-2edc-49d9-beb9-3524aed9a8fb",
   "metadata": {},
   "outputs": [
    {
     "data": {
      "text/plain": [
       "'2468'"
      ]
     },
     "execution_count": 54,
     "metadata": {},
     "output_type": "execute_result"
    }
   ],
   "source": [
    "str = \"123456789\"\n",
    "#print all the even numbers\n",
    "str[1:10:2]"
   ]
  },
  {
   "cell_type": "code",
   "execution_count": 57,
   "id": "27cd7dae-6ce0-4826-b66e-74e0784e1045",
   "metadata": {},
   "outputs": [],
   "source": [
    "x=(1,2,3,4,5,6,7,8,9,10,11,12)\n",
    "y=x[1::2]\n"
   ]
  },
  {
   "cell_type": "code",
   "execution_count": 58,
   "id": "b634cf7b-0aec-43ff-a959-e2a5ffdf1bd4",
   "metadata": {},
   "outputs": [
    {
     "name": "stdout",
     "output_type": "stream",
     "text": [
      "(2, 4, 6, 8, 10, 12)\n"
     ]
    }
   ],
   "source": [
    "print(y)"
   ]
  },
  {
   "cell_type": "code",
   "execution_count": 59,
   "id": "51a3d412-5e97-4e5a-8030-e95654f177da",
   "metadata": {},
   "outputs": [
    {
     "data": {
      "text/plain": [
       "(2, 4, 6, 8, 10, 12)"
      ]
     },
     "execution_count": 59,
     "metadata": {},
     "output_type": "execute_result"
    }
   ],
   "source": [
    "x=(1,2,3,4,5,6,7,8,9,10,11,12)\n",
    "x[1::2] #starts at index no 1(value is 2) runs till the end of data and steps to the every 2nd elemnts after start"
   ]
  },
  {
   "cell_type": "code",
   "execution_count": 62,
   "id": "b09b1621-a137-4385-a1dc-4e0b2ce9fc5e",
   "metadata": {},
   "outputs": [
    {
     "data": {
      "text/plain": [
       "(5, 3, 1)"
      ]
     },
     "execution_count": 62,
     "metadata": {},
     "output_type": "execute_result"
    }
   ],
   "source": [
    "x=(1,2,3,4,5,6,7,8,9,10,11,12)\n",
    "x[-8::-2]"
   ]
  },
  {
   "cell_type": "code",
   "execution_count": 63,
   "id": "1a0ef9d0-5811-46a6-8d04-e0921e110400",
   "metadata": {},
   "outputs": [
    {
     "name": "stdout",
     "output_type": "stream",
     "text": [
      "123456789vghjbkj\n"
     ]
    }
   ],
   "source": [
    "str = \"123456789\"  #string concatination\n",
    "str1 = \"vghjbkj\"\n",
    "str3 = str + str1\n",
    "print(str3)"
   ]
  },
  {
   "cell_type": "code",
   "execution_count": 5,
   "id": "4350228a-6b05-4358-a0ef-70c04efbbe4c",
   "metadata": {},
   "outputs": [
    {
     "name": "stdout",
     "output_type": "stream",
     "text": [
      "i ha10verupees\n"
     ]
    }
   ],
   "source": [
    "#f-strings --> format to write strings\n",
    "x= 10\n",
    "#print(\"i have \" + x + \" rupees\") #only works for variables having str value\n",
    "print(f\"i ha{x}verupees\")"
   ]
  },
  {
   "cell_type": "code",
   "execution_count": 76,
   "id": "6300d3e4-65e4-49e1-8fdd-c4913e0dd0c7",
   "metadata": {},
   "outputs": [
    {
     "name": "stdout",
     "output_type": "stream",
     "text": [
      "1\n",
      "33.333333333333336\n",
      "33\n",
      "1000000\n"
     ]
    }
   ],
   "source": [
    "#OPERATORS\n",
    "#arithematic ==> +,-,*,/,%,//,**\n",
    "x = 100\n",
    "y=3\n",
    "# % modulo --> returns the remainder\n",
    "print(x%y)  #return remainder\n",
    "print(x/y) #returns quotient\n",
    "print(x//y) #return the quotient but in integer datatype\n",
    "print(x**y)  #100^3"
   ]
  },
  {
   "cell_type": "code",
   "execution_count": 91,
   "id": "15c5401f-a294-4510-a215-46ce1ce6b36f",
   "metadata": {},
   "outputs": [
    {
     "name": "stdout",
     "output_type": "stream",
     "text": [
      "5\n"
     ]
    }
   ],
   "source": [
    "#assignment operators ==> =,+=,-=,*=,/=,,%=,//=,**=\n",
    "x = 10\n",
    "x //=2  #x = x//2 assigning the value to x after performing operation\n",
    "print(x)"
   ]
  },
  {
   "cell_type": "code",
   "execution_count": 94,
   "id": "c2c1610c-9556-46ab-8dff-e7611570f854",
   "metadata": {},
   "outputs": [
    {
     "name": "stdout",
     "output_type": "stream",
     "text": [
      "False\n"
     ]
    }
   ],
   "source": [
    "#comparison ==> ==,!=,<,>,<=,>= !=(not equal to)\n",
    "x = 10\n",
    "y = 30\n",
    "print(x==y)"
   ]
  },
  {
   "cell_type": "code",
   "execution_count": 96,
   "id": "93f9dc8c-0e33-4915-9b14-85940d3df6da",
   "metadata": {},
   "outputs": [
    {
     "name": "stdout",
     "output_type": "stream",
     "text": [
      "False\n"
     ]
    }
   ],
   "source": [
    "#logical operators ==> and, or, not combine multiple conditions together\n",
    "x=4\n",
    "y=5\n",
    "\n",
    "result = x>6 and y<6  #both the conditions must be true for result to be true\n",
    "print(result)"
   ]
  },
  {
   "cell_type": "code",
   "execution_count": 97,
   "id": "c5cc2576-326a-4fb0-b376-ce8660f1f691",
   "metadata": {},
   "outputs": [
    {
     "name": "stdout",
     "output_type": "stream",
     "text": [
      "True\n"
     ]
    }
   ],
   "source": [
    "result = x>6 or y<6  #any of the conditions must be true for result to be true(at least 1 condition)\n",
    "print(result)"
   ]
  },
  {
   "cell_type": "code",
   "execution_count": 100,
   "id": "868e3797-4643-4477-b294-4b1cbab62fc9",
   "metadata": {},
   "outputs": [
    {
     "name": "stdout",
     "output_type": "stream",
     "text": [
      "True\n"
     ]
    }
   ],
   "source": [
    "x= 5  #not changes the bool output to the opposite -- reverse the original output\n",
    "result = not(x<3) #true --> false\n",
    "print(result)"
   ]
  },
  {
   "cell_type": "code",
   "execution_count": 1,
   "id": "83e5803b-4c3e-4d47-b786-8eed40855dd0",
   "metadata": {},
   "outputs": [],
   "source": [
    "#sequential data types\n",
    "# list - []\n",
    "# tuple - ()\n",
    "# set - {}\n",
    "# dictionary - {}"
   ]
  },
  {
   "cell_type": "code",
   "execution_count": 4,
   "id": "de78f38b-0118-4eca-9e9f-30ad00d253a1",
   "metadata": {},
   "outputs": [
    {
     "name": "stdout",
     "output_type": "stream",
     "text": [
      "[1, 2, 3, 4, 4, 56, 86, 42, 'hi']\n",
      "<class 'list'>\n"
     ]
    }
   ],
   "source": [
    "#List - ordered,changeable,allows duplicates,heterogeneous\n",
    "list1 = [1,2,3,4,4,56,86,42,\"hi\"]\n",
    "print(list1)\n",
    "print(type(list1))"
   ]
  },
  {
   "cell_type": "code",
   "execution_count": 6,
   "id": "8a8f75f2-eab8-4159-ad8c-101c2a042b5e",
   "metadata": {},
   "outputs": [
    {
     "name": "stdout",
     "output_type": "stream",
     "text": [
      "9\n"
     ]
    }
   ],
   "source": [
    "print(len(list1)) #length of list"
   ]
  },
  {
   "cell_type": "code",
   "execution_count": 13,
   "id": "69ebe164-da9a-4883-bc81-9813f9c54ada",
   "metadata": {},
   "outputs": [
    {
     "name": "stdout",
     "output_type": "stream",
     "text": [
      "hi\n"
     ]
    },
    {
     "data": {
      "text/plain": [
       "['Poonam', 2, 3, 4, 4, 56, 86, 42, 'hi']"
      ]
     },
     "execution_count": 13,
     "metadata": {},
     "output_type": "execute_result"
    }
   ],
   "source": [
    "list1[0] #to modify items in a specific position\n",
    "list1[0] = \"Poonam\"\n",
    "print(list1[8])\n",
    "list1"
   ]
  },
  {
   "cell_type": "code",
   "execution_count": 14,
   "id": "fdce640d-1111-431e-a4c0-30378a6fe849",
   "metadata": {},
   "outputs": [
    {
     "name": "stdout",
     "output_type": "stream",
     "text": [
      "['Poonam', 2, 3, 4, 4, 56, 86, 42, 'hi', 1234]\n"
     ]
    }
   ],
   "source": [
    "#adds an item always to the last position in a list\n",
    "list1.append(1234)  #add single item\n",
    "print(list1)"
   ]
  },
  {
   "cell_type": "code",
   "execution_count": 15,
   "id": "1f6c20ac-c125-442b-b678-ff6bb6124e5d",
   "metadata": {},
   "outputs": [
    {
     "name": "stdout",
     "output_type": "stream",
     "text": [
      "['Poonam', 2, 3, 4, 4, 56, 86, 42, 'hi', 1234, 20, 30, 40, 50]\n"
     ]
    }
   ],
   "source": [
    "#adding multiple items at the end\n",
    "list1.extend([20,30,40,50])  #extend is used to add lists\n",
    "print(list1)"
   ]
  },
  {
   "cell_type": "code",
   "execution_count": 16,
   "id": "a62f7b00-0421-4b9c-a8f8-1805f18b52dd",
   "metadata": {},
   "outputs": [
    {
     "name": "stdout",
     "output_type": "stream",
     "text": [
      "[657, 'Poonam', 2, 3, 4, 4, 56, 86, 42, 'hi', 1234, 20, 30, 40, 50]\n"
     ]
    }
   ],
   "source": [
    "#add element in a specific location\n",
    "list1.insert(0,657)  #(index_no,newValue)\n",
    "print(list1)"
   ]
  },
  {
   "cell_type": "code",
   "execution_count": 18,
   "id": "374cf3bd-e6c3-4fb9-b2a1-3943248f15af",
   "metadata": {},
   "outputs": [
    {
     "name": "stdout",
     "output_type": "stream",
     "text": [
      "[657, 2, 3, 4, 56, 86, 42, 'hi', 1234, 20, 30, 40, 50]\n"
     ]
    }
   ],
   "source": [
    "#remove - removes item by value\n",
    "list1.remove(4)\n",
    "print(list1)"
   ]
  },
  {
   "cell_type": "code",
   "execution_count": 22,
   "id": "5b89614c-8588-4caa-8060-008bd5b3f94a",
   "metadata": {},
   "outputs": [
    {
     "name": "stdout",
     "output_type": "stream",
     "text": [
      "[2, 4, 56, 86, 42, 'hi', 1234, 20, 30, 40]\n"
     ]
    }
   ],
   "source": [
    "#pop - remove item with help of index number but if u do not specify the index, it will remove item from the last position\n",
    "#list1.pop(2)\n",
    "list1.pop(0) #(index_no)\n",
    "print(list1)"
   ]
  },
  {
   "cell_type": "code",
   "execution_count": 25,
   "id": "766a1238-3b10-4470-9c93-8c499b0adec5",
   "metadata": {},
   "outputs": [
    {
     "data": {
      "text/plain": [
       "11"
      ]
     },
     "execution_count": 25,
     "metadata": {},
     "output_type": "execute_result"
    }
   ],
   "source": [
    "#count - how many times an element occurs in the list\n",
    "list2 = [657, 2, 3, 4, 56, 86, 42, 1234,4, 20, 30, 40,4,4,4,4,4,4,4,4,4, 50]\n",
    "list2.count(4)"
   ]
  },
  {
   "cell_type": "code",
   "execution_count": null,
   "id": "382d7b2c-1c01-4162-b386-3c3bd0075894",
   "metadata": {},
   "outputs": [],
   "source": [
    "#sort - sorts values in ascending order \n",
    "#similar datatype is required \n",
    "#descending sort(reverse = True)"
   ]
  },
  {
   "cell_type": "code",
   "execution_count": 27,
   "id": "4a76ff50-6cb6-4af0-8aa6-3f9cbbd2cd9a",
   "metadata": {},
   "outputs": [
    {
     "name": "stdout",
     "output_type": "stream",
     "text": [
      "[1234, 657, 86, 56, 50, 42, 40, 30, 20, 4, 4, 4, 4, 4, 4, 4, 4, 4, 4, 4, 3, 2]\n"
     ]
    }
   ],
   "source": [
    "list2.sort(reverse = True)\n",
    "print(list2)"
   ]
  },
  {
   "cell_type": "code",
   "execution_count": 28,
   "id": "bc5b9304-9413-4bc5-945a-6ea17f9491d2",
   "metadata": {},
   "outputs": [
    {
     "name": "stdout",
     "output_type": "stream",
     "text": [
      "[50, 4, 4, 4, 4, 4, 4, 4, 4, 4, 40, 30, 20, 4, 1234, 42, 86, 56, 4, 3, 2, 657]\n"
     ]
    }
   ],
   "source": [
    "#reverse = reverse the list \n",
    "list2 = [657, 2, 3, 4, 56, 86, 42, 1234,4, 20, 30, 40,4,4,4,4,4,4,4,4,4, 50]\n",
    "list2.reverse()\n",
    "print(list2)"
   ]
  },
  {
   "cell_type": "code",
   "execution_count": 29,
   "id": "f52a592c-c36a-4ac1-be39-f280389ce6f6",
   "metadata": {},
   "outputs": [
    {
     "name": "stdout",
     "output_type": "stream",
     "text": [
      "[2, 4, 56, 86, 42, 'hi', 1234, 20, 30, 40]\n"
     ]
    }
   ],
   "source": [
    "#clear() - used to delete all items in a list\n",
    "print(list1)\n"
   ]
  },
  {
   "cell_type": "code",
   "execution_count": 30,
   "id": "b14ca0c6-4a22-4acc-9245-99dca3a25cf4",
   "metadata": {},
   "outputs": [
    {
     "name": "stdout",
     "output_type": "stream",
     "text": [
      "[]\n"
     ]
    }
   ],
   "source": [
    "list1.clear()\n",
    "print(list1)"
   ]
  },
  {
   "cell_type": "code",
   "execution_count": 32,
   "id": "1d38615c-a94a-4098-8f82-25600718aabc",
   "metadata": {},
   "outputs": [
    {
     "name": "stdout",
     "output_type": "stream",
     "text": [
      "[50, 4, 4, 4, 4, 4, 4, 4, 4, 4, 40, 30, 20, 4, 1234, 42, 86, 56, 4, 3, 2, 657]\n",
      "[4, 4, 4, 4, 4, 4, 4, 4, 4, 40, 30, 20, 4, 1234, 42, 86, 56, 4, 3, 2, 657]\n"
     ]
    }
   ],
   "source": [
    "#del keyword - used to remove specific item,multiple items,delete complete list \n",
    "print(list2)\n",
    "del list2[0]\n",
    "print(list2)"
   ]
  },
  {
   "cell_type": "code",
   "execution_count": 33,
   "id": "a050ba30-1b34-4f61-9ef6-e164d1cbb44b",
   "metadata": {},
   "outputs": [
    {
     "name": "stdout",
     "output_type": "stream",
     "text": [
      "[30, 20, 4, 1234, 42, 86, 56, 4, 3, 2, 657]\n"
     ]
    }
   ],
   "source": [
    "del list2[0:10] \n",
    "print(list2)"
   ]
  },
  {
   "cell_type": "code",
   "execution_count": 34,
   "id": "912724d4-fe7b-4d33-8e41-b90c55da8598",
   "metadata": {},
   "outputs": [],
   "source": [
    "del list2"
   ]
  },
  {
   "cell_type": "code",
   "execution_count": 35,
   "id": "dce32cf9-bc7f-4602-8f48-2d2afad34f64",
   "metadata": {},
   "outputs": [
    {
     "ename": "NameError",
     "evalue": "name 'list2' is not defined",
     "output_type": "error",
     "traceback": [
      "\u001b[1;31m---------------------------------------------------------------------------\u001b[0m",
      "\u001b[1;31mNameError\u001b[0m                                 Traceback (most recent call last)",
      "Cell \u001b[1;32mIn[35], line 1\u001b[0m\n\u001b[1;32m----> 1\u001b[0m list2\n",
      "\u001b[1;31mNameError\u001b[0m: name 'list2' is not defined"
     ]
    }
   ],
   "source": [
    "list2"
   ]
  },
  {
   "cell_type": "code",
   "execution_count": 41,
   "id": "910c4d90-79ce-4d62-b71f-303b432ffcbd",
   "metadata": {},
   "outputs": [
    {
     "name": "stdout",
     "output_type": "stream",
     "text": [
      "(1, 2, 3, 4, 5, 6, 7, 8, 9, 4.4, 4, 4, 4, 'h', 'p')\n",
      "<class 'tuple'>\n",
      "15\n"
     ]
    }
   ],
   "source": [
    "#tuple - ordered,unchangeable,allows duplicates\n",
    "tuple1 = (1,2,3,4,5,6,7,8,9,4.4,4,4,4,\"h\",\"p\")\n",
    "print(tuple1)\n",
    "print(type(tuple1))\n",
    "print(len(tuple1))"
   ]
  },
  {
   "cell_type": "code",
   "execution_count": 42,
   "id": "8193caf4-48d6-486c-9e47-53b898a900c2",
   "metadata": {},
   "outputs": [
    {
     "data": {
      "text/plain": [
       "4"
      ]
     },
     "execution_count": 42,
     "metadata": {},
     "output_type": "execute_result"
    }
   ],
   "source": [
    "tuple1.count(4) #we want to check the occurances of a particular value"
   ]
  },
  {
   "cell_type": "code",
   "execution_count": 45,
   "id": "6d780e0b-b4b2-43f7-bce5-c695440e16e0",
   "metadata": {},
   "outputs": [
    {
     "name": "stdout",
     "output_type": "stream",
     "text": [
      "[1, 2, 3, 4, 5, 6, 7, 8, 9, 4.4, 4, 4, 4, 'h', 'p']\n",
      "<class 'list'>\n",
      "(1, 2, 3, 4, 5, 6, 7, 8, 9, 4.4, 4, 4, 4, 'h', 'p')\n",
      "<class 'tuple'>\n"
     ]
    }
   ],
   "source": [
    "x= list(tuple1)\n",
    "print(x)\n",
    "print(type(x))\n",
    "\n",
    "#perform methods here\n",
    "\n",
    "tuple2 = tuple(x)\n",
    "print(tuple2)\n",
    "print(type(tuple2))"
   ]
  },
  {
   "cell_type": "code",
   "execution_count": 46,
   "id": "8ff2e595-df42-4558-b8b5-170dbf959452",
   "metadata": {},
   "outputs": [],
   "source": [
    "#question = create a tuple of 10 items, implement any 3 methods to modify the items in that tuple, output should be a tuple"
   ]
  },
  {
   "cell_type": "code",
   "execution_count": 49,
   "id": "09d7f1b1-2317-48c3-ba80-1ea2a63806f3",
   "metadata": {},
   "outputs": [
    {
     "name": "stdout",
     "output_type": "stream",
     "text": [
      "{1, 2, 3, 4, 5, 6, 'hi'}\n",
      "<class 'set'>\n",
      "7\n"
     ]
    }
   ],
   "source": [
    "#Sets = unordered,unchangeable,donot allow duplicates\n",
    "set1 = {1,2,3,4,5,6,6,6,6,\"hi\"}\n",
    "print(set1)\n",
    "print(type(set1))\n",
    "print(len(set1))"
   ]
  },
  {
   "cell_type": "code",
   "execution_count": 54,
   "id": "3cc4435e-291a-4562-bacb-4c33efb92288",
   "metadata": {},
   "outputs": [
    {
     "name": "stdout",
     "output_type": "stream",
     "text": [
      "{1, 2, 3, 4, 5, 6, 23, 'hi', 62}\n"
     ]
    }
   ],
   "source": [
    "#add methods = add an element to the set\n",
    "set1.add(62) #adds single value to the list \n",
    "print(set1)"
   ]
  },
  {
   "cell_type": "code",
   "execution_count": 56,
   "id": "22798f29-f478-46ef-b365-7258b880a485",
   "metadata": {},
   "outputs": [
    {
     "data": {
      "text/plain": [
       "{1, 2, 2.3, 23, 3, 4, 5, 6, 62, 'hi', 'k', 'p'}"
      ]
     },
     "execution_count": 56,
     "metadata": {},
     "output_type": "execute_result"
    }
   ],
   "source": [
    "#update - add multiple values at the same time\n",
    "set1.update([\"k\",\"p\",2.3])\n",
    "set1"
   ]
  },
  {
   "cell_type": "code",
   "execution_count": 60,
   "id": "d88a7c8d-9305-45ed-83a1-bd0ed9234ce8",
   "metadata": {},
   "outputs": [
    {
     "ename": "KeyError",
     "evalue": "2.33",
     "output_type": "error",
     "traceback": [
      "\u001b[1;31m---------------------------------------------------------------------------\u001b[0m",
      "\u001b[1;31mKeyError\u001b[0m                                  Traceback (most recent call last)",
      "Cell \u001b[1;32mIn[60], line 2\u001b[0m\n\u001b[0;32m      1\u001b[0m \u001b[38;5;66;03m#remove - remove a value\u001b[39;00m\n\u001b[1;32m----> 2\u001b[0m set1\u001b[38;5;241m.\u001b[39mremove(\u001b[38;5;241m2.33\u001b[39m)\n\u001b[0;32m      3\u001b[0m \u001b[38;5;28mprint\u001b[39m(set1)\n",
      "\u001b[1;31mKeyError\u001b[0m: 2.33"
     ]
    }
   ],
   "source": [
    "#remove - remove a value\n",
    "set1.remove(2.33)\n",
    "print(set1)"
   ]
  },
  {
   "cell_type": "code",
   "execution_count": 61,
   "id": "c07a2f60-32cc-4c46-a0cc-f6fb66cc6004",
   "metadata": {},
   "outputs": [
    {
     "name": "stdout",
     "output_type": "stream",
     "text": [
      "{1, 2, 3, 4, 5, 6, 'p', 23, 'k', 'hi', 62}\n"
     ]
    }
   ],
   "source": [
    "#discard - remove a value\n",
    "set1.discard(2.33)\n",
    "print(set1)"
   ]
  },
  {
   "cell_type": "code",
   "execution_count": 59,
   "id": "c85678c8-4ef8-45dd-862a-2ef35eaba8cf",
   "metadata": {},
   "outputs": [
    {
     "name": "stdout",
     "output_type": "stream",
     "text": [
      "{1, 2, 3, 4, 5, 6, 'hihowareyoudoing'}\n"
     ]
    }
   ],
   "source": [
    "set2 = {1,2,3,4,5,6,6,6,6,\"hihowareyoudoing\"}\n",
    "set2.update([\"hihowareyoudoing\"])\n",
    "print(set2)"
   ]
  },
  {
   "cell_type": "code",
   "execution_count": 67,
   "id": "f221e014-51f1-4633-b835-adc1c08992c4",
   "metadata": {},
   "outputs": [
    {
     "name": "stdout",
     "output_type": "stream",
     "text": [
      "{1, 2, 3.11, 4.22}\n",
      "{1, 2, 3.11}\n"
     ]
    }
   ],
   "source": [
    "set3 = {1,2,3.11,4.22}\n",
    "set3.discard(3.1)\n",
    "print(set3)\n",
    "set3.discard(4.220)\n",
    "print(set3)"
   ]
  },
  {
   "cell_type": "code",
   "execution_count": 65,
   "id": "b2cc5675-eb6e-4913-bb0c-ce843a28856c",
   "metadata": {},
   "outputs": [
    {
     "name": "stdout",
     "output_type": "stream",
     "text": [
      "{1, 2, 3, 4, 5, 6, 'h', 8, 9, 10, 'e', 'o', 'hi', 'l', 62}\n"
     ]
    }
   ],
   "source": [
    "set1 = {1, 2, 3, 4, 5, 6, 8, 9, 10, 'hi', 62}\n",
    "set1.update(\"hello\")\n",
    "print(set1)\n"
   ]
  },
  {
   "cell_type": "code",
   "execution_count": 68,
   "id": "76b33cc1-18d2-4670-8c17-fae7e833a692",
   "metadata": {},
   "outputs": [],
   "source": [
    "#pop method = removes any random element from the set pop()"
   ]
  },
  {
   "cell_type": "code",
   "execution_count": 69,
   "id": "20b821fd-b9ca-44d7-a859-0e9360758597",
   "metadata": {},
   "outputs": [],
   "source": [
    "#clear() - delete all the elements in the set"
   ]
  },
  {
   "cell_type": "code",
   "execution_count": 72,
   "id": "c14a61e3-bccf-4c07-83e9-7972d8b888d5",
   "metadata": {},
   "outputs": [
    {
     "ename": "NameError",
     "evalue": "name 'set1' is not defined",
     "output_type": "error",
     "traceback": [
      "\u001b[1;31m---------------------------------------------------------------------------\u001b[0m",
      "\u001b[1;31mNameError\u001b[0m                                 Traceback (most recent call last)",
      "Cell \u001b[1;32mIn[72], line 2\u001b[0m\n\u001b[0;32m      1\u001b[0m \u001b[38;5;66;03m#del keyword \u001b[39;00m\n\u001b[1;32m----> 2\u001b[0m \u001b[38;5;28mprint\u001b[39m(set1)\n\u001b[0;32m      3\u001b[0m \u001b[38;5;28;01mdel\u001b[39;00m set1\n\u001b[0;32m      4\u001b[0m \u001b[38;5;28mprint\u001b[39m(set1)\n",
      "\u001b[1;31mNameError\u001b[0m: name 'set1' is not defined"
     ]
    }
   ],
   "source": [
    "#del keyword \n",
    "print(set1)\n",
    "del set1\n",
    "print(set1)"
   ]
  },
  {
   "cell_type": "code",
   "execution_count": 73,
   "id": "09975b83-7ec4-4b9b-8775-10c2a3284879",
   "metadata": {},
   "outputs": [],
   "source": [
    "#set operations = union,intersection,difference,symmetric_difference"
   ]
  },
  {
   "cell_type": "code",
   "execution_count": 75,
   "id": "65863e04-3e0a-4c97-a686-7e345609fb44",
   "metadata": {},
   "outputs": [
    {
     "name": "stdout",
     "output_type": "stream",
     "text": [
      "{1, 2, 3, 4, 5, 6, 'h', 8, 9, 10, 1234, 20, 'o', 86, 30, 'e', 40, 42, 'hi', 56, 'l', 62}\n"
     ]
    }
   ],
   "source": [
    "set1 = {1, 2, 3, 4, 5, 6, 'h', 8, 9, 10, 'e', 'o', 'hi', 'l', 62}\n",
    "set2 = {2, 4, 56, 86, 42, 'hi', 1234, 20, 30, 40}\n",
    "#result = set1.union(set2,set3,set4) used to join 2 or more sets\n",
    "result = set1 | set2 |set3 |set4\n",
    "print(result)"
   ]
  },
  {
   "cell_type": "code",
   "execution_count": 77,
   "id": "a85db2bb-f29a-4c1c-83be-74a48f8110ff",
   "metadata": {},
   "outputs": [
    {
     "name": "stdout",
     "output_type": "stream",
     "text": [
      "{2, 4, 'hi'}\n"
     ]
    }
   ],
   "source": [
    "#result = set1.intersection(set2) #returns the elements which are common in both sets\n",
    "result = set1 & set2\n",
    "print(result)"
   ]
  },
  {
   "cell_type": "code",
   "execution_count": 80,
   "id": "d398dbe3-cfde-4611-8604-4fe0bbda1052",
   "metadata": {},
   "outputs": [
    {
     "name": "stdout",
     "output_type": "stream",
     "text": [
      "{1, 'h', 3, 5, 6, 'e', 8, 9, 10, 'o', 'l', 62}\n",
      "{40, 42, 1234, 20, 86, 56, 30}\n"
     ]
    }
   ],
   "source": [
    "#difference - return the elements in the set that are not present in the other set\n",
    "result = set1.difference(set2) #set1 elements\n",
    "#result1 = set2.difference(set1) #set2 elements\n",
    "result1 = set2 - set1\n",
    "print(result)\n",
    "print(result1)"
   ]
  },
  {
   "cell_type": "code",
   "execution_count": 82,
   "id": "2171d2dc-144b-4946-afb8-cb653400b672",
   "metadata": {},
   "outputs": [
    {
     "name": "stdout",
     "output_type": "stream",
     "text": [
      "{1, 3, 'h', 5, 6, 8, 9, 10, 20, 30, 'e', 40, 42, 56, 'o', 62, 1234, 86, 'l'}\n"
     ]
    }
   ],
   "source": [
    "#symmetric_difference = unique values present in both the sets\n",
    "#result = set1.symmetric_difference(set2)\n",
    "result = set1 ^ set2\n",
    "print(result)"
   ]
  },
  {
   "cell_type": "code",
   "execution_count": 85,
   "id": "1ced3bfc-57a0-431d-a878-93a8134dc550",
   "metadata": {},
   "outputs": [
    {
     "name": "stdout",
     "output_type": "stream",
     "text": [
      "False\n",
      "False\n"
     ]
    }
   ],
   "source": [
    "#issuperset\n",
    "#issubset\n",
    "\n",
    "super = {1,10,2,20,3,30,4,40,5,50}\n",
    "sub = {1,2,3,4,5,6}\n",
    "print(super.issuperset(sub))\n",
    "print(sub.issubset(super))"
   ]
  },
  {
   "cell_type": "code",
   "execution_count": 1,
   "id": "9a8e8d66-6f3c-4a4b-8c43-80586a168ab4",
   "metadata": {},
   "outputs": [],
   "source": [
    "#dictionary -{} ordered,changeable and do not allow duplicates\n",
    "#do not have index numbers\n",
    "#key:value pair  eg. name: Poonam age:35\n",
    "#in dictionary we store detailed information"
   ]
  },
  {
   "cell_type": "code",
   "execution_count": 3,
   "id": "05fabd3f-49a4-4522-be13-ead67cf3aa2b",
   "metadata": {},
   "outputs": [
    {
     "data": {
      "text/plain": [
       "'employee'"
      ]
     },
     "execution_count": 3,
     "metadata": {},
     "output_type": "execute_result"
    }
   ],
   "source": [
    "dict1 ={\n",
    "    \"name\": \"Ajay\", #key : value\n",
    "    \"age\" : 40,\n",
    "    \"empID\" : 12345,\n",
    "    \"status\" : \"manager\",\n",
    "    \"status\" : \"employee\"\n",
    "}\n",
    "dict1[\"status\"]"
   ]
  },
  {
   "cell_type": "code",
   "execution_count": 13,
   "id": "212d89f2-b3bb-4fed-8ddb-6e0c036c3463",
   "metadata": {},
   "outputs": [
    {
     "name": "stdout",
     "output_type": "stream",
     "text": [
      "adi\n"
     ]
    }
   ],
   "source": [
    "dict2 = {\n",
    "    \"emp1\" : {\n",
    "        \"name\" : \"adi\",\n",
    "        \"empid\" : 123\n",
    "    },\n",
    "    \"emp2\" : {\n",
    "        \"name\" : \"Riya\",\n",
    "        \"empid\" : 123\n",
    "    }\n",
    "}\n",
    "print(dict2[\"emp1\"][\"name\"])"
   ]
  },
  {
   "cell_type": "code",
   "execution_count": 6,
   "id": "1f70e179-8672-4cb5-a1f9-94fb583d6aaf",
   "metadata": {},
   "outputs": [
    {
     "data": {
      "text/plain": [
       "'Ajay'"
      ]
     },
     "execution_count": 6,
     "metadata": {},
     "output_type": "execute_result"
    }
   ],
   "source": [
    "#get() => return the values for specified key\n",
    "dict1.get(\"name\")"
   ]
  },
  {
   "cell_type": "code",
   "execution_count": 11,
   "id": "8d0e9f6d-7b1e-41cd-abe1-9802b76f1ea9",
   "metadata": {},
   "outputs": [
    {
     "data": {
      "text/plain": [
       "{'name': 'adi', 'empid': 123}"
      ]
     },
     "execution_count": 11,
     "metadata": {},
     "output_type": "execute_result"
    }
   ],
   "source": [
    "dict2.get(\"emp1\")"
   ]
  },
  {
   "cell_type": "code",
   "execution_count": 14,
   "id": "bfaa70c6-acf3-468a-ac61-3840298960e0",
   "metadata": {},
   "outputs": [
    {
     "data": {
      "text/plain": [
       "'adi'"
      ]
     },
     "execution_count": 14,
     "metadata": {},
     "output_type": "execute_result"
    }
   ],
   "source": [
    "dict2.get(\"emp1\",{}).get(\"name\")"
   ]
  },
  {
   "cell_type": "code",
   "execution_count": 15,
   "id": "4e3f5798-6603-403c-acb9-a9afecb58b62",
   "metadata": {},
   "outputs": [
    {
     "data": {
      "text/plain": [
       "dict_keys(['name', 'age', 'empID', 'status'])"
      ]
     },
     "execution_count": 15,
     "metadata": {},
     "output_type": "execute_result"
    }
   ],
   "source": [
    "#keys() - used to return all the keys present in the dictionary\n",
    "dict1.keys()"
   ]
  },
  {
   "cell_type": "code",
   "execution_count": 16,
   "id": "a5689bfb-1f68-4d68-9657-1683ecbfcde4",
   "metadata": {},
   "outputs": [
    {
     "data": {
      "text/plain": [
       "dict_values(['Ajay', 40, 12345, 'employee'])"
      ]
     },
     "execution_count": 16,
     "metadata": {},
     "output_type": "execute_result"
    }
   ],
   "source": [
    "#values() - return all the values in the dictionary\n",
    "dict1.values()"
   ]
  },
  {
   "cell_type": "code",
   "execution_count": 17,
   "id": "2f62eb5b-79d0-40c4-86c8-95f47abed98c",
   "metadata": {},
   "outputs": [
    {
     "data": {
      "text/plain": [
       "dict_items([('name', 'Ajay'), ('age', 40), ('empID', 12345), ('status', 'employee')])"
      ]
     },
     "execution_count": 17,
     "metadata": {},
     "output_type": "execute_result"
    }
   ],
   "source": [
    "#items() - retuens all the key value pairs\n",
    "dict1.items()"
   ]
  },
  {
   "cell_type": "code",
   "execution_count": 18,
   "id": "27608fbd-0273-4b3f-99fe-faf205e1cc18",
   "metadata": {},
   "outputs": [
    {
     "name": "stdout",
     "output_type": "stream",
     "text": [
      "{'name': 'Ajay', 'age': 40, 'status': 'employee'}\n"
     ]
    }
   ],
   "source": [
    "#pop() - remove the value for a specfic key\n",
    "dict1.pop(\"empID\")\n",
    "print(dict1)"
   ]
  },
  {
   "cell_type": "code",
   "execution_count": 20,
   "id": "fe25dbb3-0f36-42e3-9c67-a9a9bfcff9f2",
   "metadata": {},
   "outputs": [
    {
     "data": {
      "text/plain": [
       "'adi'"
      ]
     },
     "execution_count": 20,
     "metadata": {},
     "output_type": "execute_result"
    }
   ],
   "source": [
    "dict2.get(\"emp1\").pop(\"name\")"
   ]
  },
  {
   "cell_type": "code",
   "execution_count": 21,
   "id": "5d499f63-a500-4653-a9ba-272ea684475b",
   "metadata": {},
   "outputs": [
    {
     "name": "stdout",
     "output_type": "stream",
     "text": [
      "{'name': 'Ajay', 'age': 40}\n"
     ]
    }
   ],
   "source": [
    "#popitem()\n",
    "dict1.popitem()\n",
    "print(dict1)"
   ]
  },
  {
   "cell_type": "code",
   "execution_count": 23,
   "id": "f85897d0-8e58-47f0-b43c-06929684c2fb",
   "metadata": {},
   "outputs": [
    {
     "name": "stdout",
     "output_type": "stream",
     "text": [
      "{'name': 'Ajay', 'age': 40, 'empID': 12345, 'status': 200000}\n"
     ]
    }
   ],
   "source": [
    "dict1 ={\n",
    "    \"name\": \"Ajay\", #key : value\n",
    "    \"age\" : 40,\n",
    "    \"empID\" : 12345,\n",
    "    \"status\" : \"manager\",\n",
    "    \"status\" : \"employee\"\n",
    "}\n",
    "dict1.update({\"status\" : 200000})\n",
    "print(dict1)"
   ]
  },
  {
   "cell_type": "code",
   "execution_count": 24,
   "id": "4c405a23-02b5-45a2-8613-4f57d2374406",
   "metadata": {},
   "outputs": [
    {
     "name": "stdout",
     "output_type": "stream",
     "text": [
      "{}\n"
     ]
    }
   ],
   "source": [
    "#clear()\n",
    "dict1.clear()\n",
    "print(dict1)"
   ]
  },
  {
   "cell_type": "code",
   "execution_count": null,
   "id": "161fda8c-ac6a-42da-8a3d-94abf12dfa8e",
   "metadata": {},
   "outputs": [],
   "source": [
    "# : -> used in conditional statements,loops,functions,classes to create a block for us to write code in it\n",
    "# in built methods- () tuples\n",
    "#sq [] - list,arrays,index\n",
    "#curly{} - sets,variables in f-strings,dictionaries"
   ]
  },
  {
   "cell_type": "code",
   "execution_count": 26,
   "id": "f4a55586-31c2-446a-bb07-75ece0076203",
   "metadata": {},
   "outputs": [
    {
     "name": "stdout",
     "output_type": "stream",
     "text": [
      "not allowed\n"
     ]
    }
   ],
   "source": [
    "#conditional statements - \n",
    "\n",
    "idcard = False\n",
    "\n",
    "if idcard == True:\n",
    "    print(\"enter\")\n",
    "else:\n",
    "    print(\"not allowed\")"
   ]
  },
  {
   "cell_type": "code",
   "execution_count": 27,
   "id": "eb4e93e2-126f-40f7-9389-32a4481986ab",
   "metadata": {},
   "outputs": [],
   "source": [
    "#take a number and check if it is greater than 2.3 or not\n",
    "#num%2==0 wap to check if a number is even or not"
   ]
  },
  {
   "cell_type": "code",
   "execution_count": 28,
   "id": "4f6c0a80-0c12-4fa8-9e35-7ff4b7f897f7",
   "metadata": {},
   "outputs": [],
   "source": [
    "# num%2==0\n",
    "#4%2 =0\n",
    "#0==0  #even"
   ]
  },
  {
   "cell_type": "code",
   "execution_count": 29,
   "id": "0f5ca504-0576-40a0-9b73-2d80e729443a",
   "metadata": {},
   "outputs": [],
   "source": [
    "#10/2= 5 is q , 0 is remainder\n",
    "#10%2=0\n",
    "#comparision remainder must be 0"
   ]
  },
  {
   "cell_type": "code",
   "execution_count": 34,
   "id": "bf0fb8e1-8051-417c-bf5d-eb4f556ec7fe",
   "metadata": {},
   "outputs": [
    {
     "name": "stdout",
     "output_type": "stream",
     "text": [
      "not ok\n"
     ]
    }
   ],
   "source": [
    "#logical operator - and , or\n",
    "#to combine multiple conditions\n",
    "# a>10 but a<100\n",
    "a=450\n",
    "if a==10 or a<100:\n",
    "    print(\"ok\")\n",
    "else:\n",
    "    print(\"not ok\")"
   ]
  },
  {
   "cell_type": "code",
   "execution_count": 35,
   "id": "d5de5f15-5751-42d1-91b2-e6ee15aa3b0d",
   "metadata": {},
   "outputs": [],
   "source": [
    "#you are a teacher and you have to assign the grades A+,A,B+,B,C,D,FAIL to students based on ther  marks\n",
    "#100-90 A+\n",
    "#90-80 A\n",
    "#80-70 B+\n",
    "#70-60 B\n",
    "#60-50 C\n",
    "#50-40 D\n",
    "#below 40 Fail"
   ]
  },
  {
   "cell_type": "code",
   "execution_count": 1,
   "id": "96336e79-2180-47ab-a385-3d67d5edec7e",
   "metadata": {},
   "outputs": [
    {
     "name": "stdout",
     "output_type": "stream",
     "text": [
      "A+\n"
     ]
    }
   ],
   "source": [
    "#elif - else-if\n",
    "marks=99\n",
    "if marks>=90 and marks<=100:\n",
    "    print(\"A+\")\n",
    "elif marks>=80 and marks<90:\n",
    "    print(\"A\")"
   ]
  },
  {
   "cell_type": "code",
   "execution_count": 40,
   "id": "8afed8c1-8246-4344-b785-7078024c0af1",
   "metadata": {},
   "outputs": [
    {
     "name": "stdin",
     "output_type": "stream",
     "text": [
      "Enter your Marks to know your grades 109\n"
     ]
    },
    {
     "name": "stdout",
     "output_type": "stream",
     "text": [
      "Invalid\n"
     ]
    }
   ],
   "source": [
    "M = int(input(\"Enter your Marks to know your grades\"))\n",
    "if M>90 and M<=100:  #if marks>80 else: if marks >70 else if marks >60\n",
    "  print(\"Grade A+\")\n",
    "elif M>80 and M<90:\n",
    "  print(\"Grade A\")\n",
    "elif M>70 and M<=80:\n",
    "  print(\"Grade B+\")\n",
    "elif M>60 and M<=70:\n",
    "  print(\"Grade B\")\n",
    "elif M>50 and M<=60:\n",
    "  print(\"Grade C\")\n",
    "elif M>40 and M<=50:\n",
    "  print(\"Grade D\")\n",
    "elif M>100:\n",
    "    print(\"Invalid\")\n",
    "else:\n",
    "  print(\"Fail\")\n"
   ]
  },
  {
   "cell_type": "code",
   "execution_count": 46,
   "id": "4b98947d-7bf2-4749-886b-09a42a0847d2",
   "metadata": {},
   "outputs": [
    {
     "name": "stdin",
     "output_type": "stream",
     "text": [
      " 56\n",
      "yes/no no\n"
     ]
    },
    {
     "name": "stdout",
     "output_type": "stream",
     "text": [
      "you are eligible\n"
     ]
    }
   ],
   "source": [
    "#nested if else\n",
    "age = int(input())\n",
    "\n",
    "if age>=18:\n",
    "    membership = input(\"yes/no\")\n",
    "    if membership == \"yes\":\n",
    "        print(\"you are a member\")\n",
    "    else:\n",
    "        print(\"you are eligible\")\n",
    "else:\n",
    "    print(\"not eligible\")"
   ]
  },
  {
   "cell_type": "code",
   "execution_count": 47,
   "id": "132e38a6-2597-4385-ad1a-4d3742c11b16",
   "metadata": {},
   "outputs": [],
   "source": [
    "#temp = >0 <50\n",
    "#weather = sunny/rainy/chilled\n",
    "#say the user that he should go out to play or not"
   ]
  },
  {
   "cell_type": "code",
   "execution_count": null,
   "id": "6fd99b9c-0ff0-46ca-999b-201a76a254ea",
   "metadata": {},
   "outputs": [],
   "source": [
    "temp = int(input(\"Enter the Temperature\"))\n",
    "if temp >= 0 and temp <= 12 :\n",
    "    weather = input(\"sunny/rainy/chilled\")\n",
    "    if whether == \"Sunny\":\n",
    "        print (\"You can go, Have fun.\")\n",
    "if temp >= 13 and temp <= 25 :\n",
    "    weather = input(\"Sunny / Rainy / Chilled\")\n",
    "    if whether == \"Rainy\":\n",
    "        print (\"you cann't go, Its Raining.\")\n",
    "if temp >= 25 and temp <= 50 :\n",
    "    weather = input(\"Sunny / Rainy / Chilled\")\n",
    "    if whether ==\"Chilled\":\n",
    "        print (\"So cold outside\")"
   ]
  },
  {
   "cell_type": "code",
   "execution_count": 55,
   "id": "087ad8fe-abdb-4879-bd10-3e198b0a7888",
   "metadata": {},
   "outputs": [
    {
     "name": "stdin",
     "output_type": "stream",
     "text": [
      " 34\n",
      "sunny/rainy/chilled sunny\n"
     ]
    },
    {
     "name": "stdout",
     "output_type": "stream",
     "text": [
      "go and play\n"
     ]
    }
   ],
   "source": [
    "temp = int(input())\n",
    "if temp>0 and temp<50:\n",
    "   weather = input(\"sunny/rainy/chilled\")\n",
    "   if weather == \"sunny\":\n",
    "      print (\"go and play\")\n",
    "   elif weather == \"rainy\":\n",
    "      print (\"bring umbrella\")\n",
    "   elif weather == \"chilled\":\n",
    "      print (\"go to sleep\")\n"
   ]
  },
  {
   "cell_type": "code",
   "execution_count": 3,
   "id": "99499a46-7879-4bac-a472-9a44317654ae",
   "metadata": {},
   "outputs": [
    {
     "name": "stdin",
     "output_type": "stream",
     "text": [
      "temp= 44\n",
      "weather is sunny/rainy/chilled:  sunny\n"
     ]
    },
    {
     "name": "stdout",
     "output_type": "stream",
     "text": [
      "you can go out\n"
     ]
    }
   ],
   "source": [
    "temp=int(input(\"temp=\"))\n",
    "\n",
    "weather = input(\"weather is sunny/rainy/chilled: \")\n",
    "if temp>=0 and temp<=20:\n",
    "    if weather==\"cold\":\n",
    "        print(\"you can not go out\")\n",
    "    else:\n",
    "        print(\"invalid weather\")\n",
    "elif temp>20 and temp<=50:\n",
    "    if weather==\"sunny\":\n",
    "        print(\"you can go out\")\n",
    "    else:\n",
    "        print(\"invalid weather\")\n",
    "else:\n",
    "    print(\"invalid\")\n"
   ]
  },
  {
   "cell_type": "code",
   "execution_count": 62,
   "id": "b4643161-54ca-4939-b272-59a8bd659295",
   "metadata": {},
   "outputs": [],
   "source": [
    "#pass keyword - pass\n",
    "a=10\n",
    "if a>7:\n",
    "    pass\n",
    "else:\n",
    "    print(\"ok\")"
   ]
  },
  {
   "cell_type": "code",
   "execution_count": 65,
   "id": "8ea1e466-c867-4888-a8ff-befa4d5ea99b",
   "metadata": {},
   "outputs": [
    {
     "name": "stdin",
     "output_type": "stream",
     "text": [
      "Enter the Temperature 23\n",
      "Sunny / Rainy / Chilled Rainy\n"
     ]
    },
    {
     "name": "stdout",
     "output_type": "stream",
     "text": [
      "you cann't go, Its Raining.\n"
     ]
    }
   ],
   "source": [
    "temp = int(input(\"Enter the Temperature\"))\n",
    "if temp >= 0 and temp <= 12 :\n",
    "    weather = input(\"Sunny / Rainy / Chilled\")\n",
    "    if whether == \"Sunny\":\n",
    "        print (\"You can go, Have fun.\")\n",
    "if temp >= 13 and temp <= 25 :\n",
    "    weather = input(\"Sunny / Rainy / Chilled\")\n",
    "    if weather == \"Rainy\":\n",
    "        print (\"you cann't go, Its Raining.\")\n",
    "if temp >= 26 and temp <= 50 :\n",
    "    weather = input(\"Sunny / Rainy / Chilled\")\n",
    "    if weather == (\"Chilled\"):\n",
    "        print (\"So cold outside\")\n"
   ]
  },
  {
   "cell_type": "code",
   "execution_count": 66,
   "id": "bbba4697-9873-420a-8333-58fe3507c848",
   "metadata": {},
   "outputs": [],
   "source": [
    "#loops - used to iterate over data continuously until the condition is satisfied\n",
    "#while and for\n",
    "#while - used when condtions are given #incrementation is needed manually #iterator is initialized\n",
    "#for - specified no of iteration #automatically incremented #range()"
   ]
  },
  {
   "cell_type": "code",
   "execution_count": 67,
   "id": "8185e51b-cfef-479e-aca0-fe81cfcbcce5",
   "metadata": {},
   "outputs": [],
   "source": [
    "#iterator - goes to each element present in the data\n",
    "#incrementation - how u r increasing the value of iterator after each iteration"
   ]
  },
  {
   "cell_type": "code",
   "execution_count": 69,
   "id": "161e4bb3-775f-4da7-90ec-a63a8bf65dda",
   "metadata": {},
   "outputs": [
    {
     "name": "stdout",
     "output_type": "stream",
     "text": [
      "1collect form\n",
      "2collect form\n",
      "3collect form\n",
      "4collect form\n",
      "5collect form\n",
      "6collect form\n",
      "7collect form\n",
      "8collect form\n",
      "9collect form\n",
      "10collect form\n"
     ]
    }
   ],
   "source": [
    "#while - bank queue\n",
    "peon = 1\n",
    "while peon<=10: #used in cases where u don't know how many times the loop needs to run but u know the condition\n",
    "    print(f\"{peon}collect form\")\n",
    "    peon+=2  #peon = peon+2 1+2 =3"
   ]
  },
  {
   "cell_type": "code",
   "execution_count": 72,
   "id": "bdb5baa2-303d-4e5f-9fb2-fad9fdbf7e44",
   "metadata": {},
   "outputs": [
    {
     "name": "stdout",
     "output_type": "stream",
     "text": [
      "0 collect form\n",
      "2 collect form\n",
      "4 collect form\n",
      "6 collect form\n",
      "8 collect form\n",
      "10 collect form\n",
      "12 collect form\n",
      "14 collect form\n",
      "16 collect form\n",
      "18 collect form\n"
     ]
    }
   ],
   "source": [
    "#for \n",
    "#range() - generate a sequence of number range(start,stop,step) stop = end-1\n",
    "# range(11)  -> 0,1,2,3,4....9\n",
    "for peon in range(0,20,2): #1,2,3,4,5,6,7,8,9,10\n",
    "    print(f\"{peon} collect form\")"
   ]
  },
  {
   "cell_type": "code",
   "execution_count": 1,
   "id": "d2225dd6-f0e0-456f-a6da-0552f9b107d9",
   "metadata": {},
   "outputs": [],
   "source": [
    "#print sum of all the number till 10 1+2+3+4...+10  while\n",
    "#print the table of 5 using for loop"
   ]
  },
  {
   "cell_type": "code",
   "execution_count": 2,
   "id": "9e820a3d-6a46-4742-9327-6d419b093943",
   "metadata": {},
   "outputs": [],
   "source": [
    "#input a number and print the reverse countdown till 0  - 10 \n",
    "#10,9,8,7,....0"
   ]
  },
  {
   "cell_type": "code",
   "execution_count": 5,
   "id": "c97482dc-9668-437f-96ab-b8bbe0857ee2",
   "metadata": {},
   "outputs": [
    {
     "name": "stdin",
     "output_type": "stream",
     "text": [
      "enter a numer 20\n"
     ]
    },
    {
     "name": "stdout",
     "output_type": "stream",
     "text": [
      "20\n",
      "19\n",
      "18\n",
      "17\n",
      "16\n",
      "15\n",
      "14\n",
      "13\n",
      "12\n",
      "11\n",
      "10\n",
      "9\n",
      "8\n",
      "7\n",
      "6\n",
      "5\n",
      "4\n",
      "3\n",
      "2\n",
      "1\n"
     ]
    }
   ],
   "source": [
    "num = int(input(\"enter a numer\"))\n",
    "while num>0:\n",
    "    print(num)\n",
    "    num-=1"
   ]
  },
  {
   "cell_type": "code",
   "execution_count": 6,
   "id": "1aefc8a4-7b49-4f62-bf00-410624de6cb8",
   "metadata": {},
   "outputs": [
    {
     "name": "stdin",
     "output_type": "stream",
     "text": [
      "Enter a number:  10\n"
     ]
    },
    {
     "name": "stdout",
     "output_type": "stream",
     "text": [
      "10\n",
      "9\n",
      "8\n",
      "7\n",
      "6\n",
      "5\n",
      "4\n",
      "3\n",
      "2\n",
      "1\n",
      "0\n"
     ]
    }
   ],
   "source": [
    "number = int(input(\"Enter a number: \"))\n",
    "while number >= 0:\n",
    "    print(number)\n",
    "    number -= 1"
   ]
  },
  {
   "cell_type": "code",
   "execution_count": 7,
   "id": "f65b32dc-b40a-4c37-82f1-a18df61ae16b",
   "metadata": {},
   "outputs": [],
   "source": [
    "#nested loops = loops inside loops\n",
    "#while and for\n",
    "1-5 5x1="
   ]
  },
  {
   "cell_type": "code",
   "execution_count": 14,
   "id": "e0f1a3ce-3c8e-411a-939e-8425efef8bf1",
   "metadata": {},
   "outputs": [
    {
     "name": "stdout",
     "output_type": "stream",
     "text": [
      "1 x 1 = 1\n",
      "1 x 2 = 2\n",
      "1 x 3 = 3\n",
      "1 x 4 = 4\n",
      "1 x 5 = 5\n",
      "1 x 6 = 6\n",
      "1 x 7 = 7\n",
      "1 x 8 = 8\n",
      "1 x 9 = 9\n",
      "1 x 10 = 10\n",
      "\n",
      "2 x 1 = 2\n",
      "2 x 2 = 4\n",
      "2 x 3 = 6\n",
      "2 x 4 = 8\n",
      "2 x 5 = 10\n",
      "2 x 6 = 12\n",
      "2 x 7 = 14\n",
      "2 x 8 = 16\n",
      "2 x 9 = 18\n",
      "2 x 10 = 20\n",
      "\n",
      "3 x 1 = 3\n",
      "3 x 2 = 6\n",
      "3 x 3 = 9\n",
      "3 x 4 = 12\n",
      "3 x 5 = 15\n",
      "3 x 6 = 18\n",
      "3 x 7 = 21\n",
      "3 x 8 = 24\n",
      "3 x 9 = 27\n",
      "3 x 10 = 30\n",
      "\n",
      "4 x 1 = 4\n",
      "4 x 2 = 8\n",
      "4 x 3 = 12\n",
      "4 x 4 = 16\n",
      "4 x 5 = 20\n",
      "4 x 6 = 24\n",
      "4 x 7 = 28\n",
      "4 x 8 = 32\n",
      "4 x 9 = 36\n",
      "4 x 10 = 40\n",
      "\n",
      "5 x 1 = 5\n",
      "5 x 2 = 10\n",
      "5 x 3 = 15\n",
      "5 x 4 = 20\n",
      "5 x 5 = 25\n",
      "5 x 6 = 30\n",
      "5 x 7 = 35\n",
      "5 x 8 = 40\n",
      "5 x 9 = 45\n",
      "5 x 10 = 50\n",
      "\n"
     ]
    }
   ],
   "source": [
    "#print the table till 5 using nested while\n",
    "i= 1\n",
    "while i<=5:\n",
    "    j=1\n",
    "    while j<=10:\n",
    "        print(f\"{i} x {j} = {i*j}\")\n",
    "        j+=1\n",
    "    print() #move to next line\n",
    "    i+=1"
   ]
  },
  {
   "cell_type": "code",
   "execution_count": 18,
   "id": "45326b9c-37a6-45f2-9a99-e50fb155f3fc",
   "metadata": {},
   "outputs": [
    {
     "name": "stdout",
     "output_type": "stream",
     "text": [
      "*\n",
      "**\n",
      "***\n",
      "****\n",
      "*****\n"
     ]
    }
   ],
   "source": [
    "#print a triangle pattern using while loop\n",
    "\n",
    "i=1 #iterator for outer loop\n",
    "\n",
    "while i<=5:\n",
    "    j=1 # j =1\n",
    "    while j<=i: #i =1 , j will run 1 time, i=2, j will run 2 times.. i=5, j will run 5 times\n",
    "        print(\"*\",end=\"\")\n",
    "        j+=1 # j =3\n",
    "    print() #once this is run, it will move to the next line\n",
    "    i+=1 # i =3"
   ]
  },
  {
   "cell_type": "code",
   "execution_count": 19,
   "id": "0f12bed6-febc-4d82-b875-ce006c6919a2",
   "metadata": {},
   "outputs": [],
   "source": [
    "# i=1, j<=i(1<=1) --> * j=2(goes out of loop)\n",
    "# i=2, j<=i(1<=2) --> * j=2 (2<=2) * j=3(goes out of the loop)"
   ]
  },
  {
   "cell_type": "code",
   "execution_count": 20,
   "id": "62539a7d-5d0c-4d26-9fc4-53feefb1b9a7",
   "metadata": {},
   "outputs": [],
   "source": [
    "#square pattern 3x3 i=1 j=3 i=2 j=3"
   ]
  },
  {
   "cell_type": "code",
   "execution_count": 21,
   "id": "59ff7875-10f8-448f-9f73-b5b561cb051f",
   "metadata": {},
   "outputs": [],
   "source": [
    "#nested for loops - \n",
    "#print the table till 5 using nested for loops"
   ]
  },
  {
   "cell_type": "code",
   "execution_count": 27,
   "id": "77f36fc3-67ac-4041-b10b-bfca3e224429",
   "metadata": {},
   "outputs": [
    {
     "name": "stdout",
     "output_type": "stream",
     "text": [
      "\n",
      "1\n",
      "12\n",
      "123\n",
      "1234\n"
     ]
    }
   ],
   "source": [
    "for i in range(1,6): #1,2,3,4,5 range(start,stop,step) stop = end+1\n",
    "    for j in range(1,i): #0,1,2,3,4\n",
    "        print(j,end =\"\")\n",
    "    print()"
   ]
  },
  {
   "cell_type": "code",
   "execution_count": 28,
   "id": "1b671356-301f-4e22-bee5-abbf6f729028",
   "metadata": {},
   "outputs": [
    {
     "data": {
      "text/plain": [
       "12345"
      ]
     },
     "execution_count": 28,
     "metadata": {},
     "output_type": "execute_result"
    }
   ],
   "source": [
    "#print the square pattern using for loops\n",
    "\n",
    "#print this pattern using for loops\n",
    "1\n",
    "12\n",
    "123\n",
    "1234\n",
    "12345"
   ]
  },
  {
   "cell_type": "code",
   "execution_count": 29,
   "id": "0ecf9584-2bcb-4bd5-a941-ba0b2d25066f",
   "metadata": {},
   "outputs": [],
   "source": [
    "#control flow statements - break & continue statements"
   ]
  },
  {
   "cell_type": "code",
   "execution_count": 34,
   "id": "4c4df218-caf8-45dd-8418-bf3e6eec3c5a",
   "metadata": {},
   "outputs": [
    {
     "name": "stdout",
     "output_type": "stream",
     "text": [
      "0\n",
      "1\n",
      "2\n",
      "3\n",
      "4\n",
      "5\n",
      "6\n",
      "7\n",
      "loop broke\n"
     ]
    }
   ],
   "source": [
    "#break - used to move out/exit a current loop\n",
    "for i in range(11): #0,1,2....10\n",
    "    if i==8: #if this condition is met, loop breaks\n",
    "        break #it will exit after meeting this codition\n",
    "    else:  #this will execute when i!=8\n",
    "        print(i)\n",
    "print(\"loop broke\")"
   ]
  },
  {
   "cell_type": "code",
   "execution_count": 35,
   "id": "781b22ea-c5ca-4ea1-876c-5231a1bde22c",
   "metadata": {},
   "outputs": [],
   "source": [
    "#print all even numbers till 50 and break the loop when it encounters 36"
   ]
  },
  {
   "cell_type": "code",
   "execution_count": 36,
   "id": "369542ce-e543-4621-b4ab-3ae0e9984724",
   "metadata": {},
   "outputs": [],
   "source": [
    "#continue statement = it will skip the specific iteration when condition is true and it will proceed with next iteration"
   ]
  },
  {
   "cell_type": "code",
   "execution_count": 37,
   "id": "0d2428dc-89ad-4453-8b29-1af57ff9e793",
   "metadata": {},
   "outputs": [
    {
     "name": "stdout",
     "output_type": "stream",
     "text": [
      "1\n",
      "3\n",
      "5\n",
      "7\n",
      "9\n",
      "11\n",
      "13\n",
      "15\n",
      "17\n",
      "19\n",
      "21\n",
      "23\n",
      "25\n",
      "27\n",
      "29\n",
      "31\n",
      "33\n",
      "35\n",
      "37\n",
      "39\n"
     ]
    }
   ],
   "source": [
    "for i in range(40):\n",
    "    if i%2==0: #i = even\n",
    "        continue #it will skip that iteration where condition is True\n",
    "    else:\n",
    "        print(i)"
   ]
  },
  {
   "cell_type": "code",
   "execution_count": 38,
   "id": "d00029f4-a9b5-4901-8813-7c55e0327a3f",
   "metadata": {},
   "outputs": [],
   "source": [
    "#print all the numbers till 100 but do not print the numbers which are divisible by 3\n",
    "#print all multiple of 3 and skip the rest"
   ]
  },
  {
   "cell_type": "code",
   "execution_count": 46,
   "id": "de3a0929-bc4e-4b83-85bf-cb1be5e0d371",
   "metadata": {},
   "outputs": [
    {
     "name": "stdout",
     "output_type": "stream",
     "text": [
      "Hello\n",
      "34\n"
     ]
    }
   ],
   "source": [
    "#functions - piece of code which is used to perform some task and it is reusable\n",
    "#def keyword is used to define a function\n",
    "#def func_name():\n",
    "\n",
    "def fun():\n",
    "    print(\"Hello\")\n",
    "    print(34)\n",
    "fun() #until function is called it will not work"
   ]
  },
  {
   "cell_type": "code",
   "execution_count": null,
   "id": "1b8efed6-aca6-48c2-b24c-81a51244a584",
   "metadata": {},
   "outputs": [],
   "source": [
    "#parameters - variables that are used to get the value which is passed by the user and pass those values into the function\n",
    "#arguments - values that the user passes\n",
    "#no of parameters = no of arguments"
   ]
  },
  {
   "cell_type": "code",
   "execution_count": 48,
   "id": "45bf1834-62d0-48f3-870d-99ddd8549144",
   "metadata": {},
   "outputs": [
    {
     "name": "stdout",
     "output_type": "stream",
     "text": [
      "sum is 8\n"
     ]
    }
   ],
   "source": [
    "def addition(num1,num2): #parameters\n",
    "    print(f\"sum is {num1+num2}\")\n",
    "addition(3,5) #arguments"
   ]
  },
  {
   "cell_type": "code",
   "execution_count": 49,
   "id": "c14e86e2-9934-4aa4-803d-eebf620de207",
   "metadata": {},
   "outputs": [],
   "source": [
    "#make a calculator with 4 arithematic operators"
   ]
  },
  {
   "cell_type": "code",
   "execution_count": 51,
   "id": "4847130b-c71a-4070-a006-6e303a7bd98e",
   "metadata": {},
   "outputs": [
    {
     "name": "stdout",
     "output_type": "stream",
     "text": [
      "('a', 'b', 'c')\n"
     ]
    }
   ],
   "source": [
    "# *args = when u donot know how many values the user will pass\n",
    "def func_name(*num):\n",
    "    print(num)\n",
    "func_name(\"a\",\"b\",\"c\")"
   ]
  },
  {
   "cell_type": "code",
   "execution_count": 53,
   "id": "687ee116-58ab-44f1-8a9d-2a42923faeb0",
   "metadata": {},
   "outputs": [
    {
     "name": "stdout",
     "output_type": "stream",
     "text": [
      "{'name': 'poonam', 'age': 35}\n"
     ]
    }
   ],
   "source": [
    "# **kwargs= access multiple named values from users keyword argument\n",
    "def printing(**detail):\n",
    "    print(detail)\n",
    "printing(name =\"poonam\",age=35) #stored in form of dictionary"
   ]
  },
  {
   "cell_type": "code",
   "execution_count": 3,
   "id": "84f815c8-3cbe-4bae-92ce-04c1c183fdc4",
   "metadata": {},
   "outputs": [
    {
     "name": "stdout",
     "output_type": "stream",
     "text": [
      "name = poonam\n",
      "age = 35\n",
      "empid = 12345\n",
      "state = karanatak\n"
     ]
    }
   ],
   "source": [
    "def apple(**detail): #parameter will take the input as a key:value pair\n",
    "    for key,value in detail.items(): #return the key:value pair\n",
    "        #name(key) : poonam(value)\n",
    "        #age(key): 35(value)\n",
    "        print(f\"{key} = {value}\")\n",
    "apple(name =\"poonam\",age=35,empid =12345,state = \"karanatak\")"
   ]
  },
  {
   "cell_type": "code",
   "execution_count": 1,
   "id": "ab828e63-d966-49ad-837c-fd6cc8ae5f16",
   "metadata": {},
   "outputs": [],
   "source": [
    "#nested if else\n",
    "#while for\n",
    "#kwargs\n",
    "#lambda function"
   ]
  },
  {
   "cell_type": "code",
   "execution_count": 6,
   "id": "11394704-e2e8-494c-b38d-3669f0d8e1b5",
   "metadata": {},
   "outputs": [],
   "source": [
    "#lambda function - def keyword is not used instead lambda keyword is used\n",
    "#function is anonymous\n",
    "#functionalities are stored in a variable, when variable is printed the output of the function is displayed"
   ]
  },
  {
   "cell_type": "code",
   "execution_count": 7,
   "id": "049cec88-fa45-4a83-906b-93b3406c867c",
   "metadata": {},
   "outputs": [
    {
     "name": "stdout",
     "output_type": "stream",
     "text": [
      "8\n"
     ]
    }
   ],
   "source": [
    "add = lambda x,y: x+y #variable = lambda parameters : expression\n",
    "print(add(3,5)) #print(variable(arguments))"
   ]
  },
  {
   "cell_type": "code",
   "execution_count": 14,
   "id": "a1af71c9-6ae1-48e0-9bd7-1985b9d17596",
   "metadata": {},
   "outputs": [
    {
     "name": "stdout",
     "output_type": "stream",
     "text": [
      "300\n",
      "False\n",
      "[2, 2, 3, 4, 0]\n"
     ]
    }
   ],
   "source": [
    "#pass 2 values in arguments and check which is the greatest\n",
    "max= lambda x,y : x if x>y else y\n",
    "print(max(300,44))\n",
    "#check if a number is even or not\n",
    "even = lambda x: x%2==0\n",
    "print(even(3))\n",
    "#filter out the negative numbers from a list\n",
    "negativ = lambda list1 : [x for x in list1 if x>=0] #0,1,2,4,-2\n",
    "print(negativ([-1,2,-4,2,3,4,0,-100]))"
   ]
  },
  {
   "cell_type": "code",
   "execution_count": 15,
   "id": "23b1a017-dd00-40ca-81df-b62bcdc2b307",
   "metadata": {},
   "outputs": [
    {
     "name": "stdout",
     "output_type": "stream",
     "text": [
      "[65, 1, 2, 4, 7, 9]\n"
     ]
    }
   ],
   "source": [
    "#q. take a input of list having duplicate values and remove those duplicates and return a list with unique values\n",
    "list1 = [1,4,65,4,2,1,1,1,7,9,4,]\n",
    "print(list(set(list1)))"
   ]
  },
  {
   "cell_type": "code",
   "execution_count": 18,
   "id": "dedd80d4-a379-41b8-9684-39e720415edd",
   "metadata": {},
   "outputs": [
    {
     "name": "stdin",
     "output_type": "stream",
     "text": [
      "enter a number 5\n",
      "enter a number for list element 1\n",
      "enter a number for list element 11\n",
      "enter a number for list element 1\n",
      "enter a number for list element 3\n",
      "enter a number for list element 3\n"
     ]
    },
    {
     "name": "stdout",
     "output_type": "stream",
     "text": [
      "[1, 11, 1, 3, 3]\n",
      "[3, 1, 11]\n"
     ]
    }
   ],
   "source": [
    "num = int(input(\"enter a number\"))\n",
    "list1 = []\n",
    "for i in range(num):\n",
    "    input_new = int(input(\"enter a number for list element\"))\n",
    "    list1.append(input_new) \n",
    "print(list1)\n",
    "\n",
    "print(list(set(list1)))"
   ]
  },
  {
   "cell_type": "code",
   "execution_count": 20,
   "id": "e65ec425-5466-471a-bcab-6b43f6627e93",
   "metadata": {},
   "outputs": [],
   "source": [
    "#q. factorial = 5! = 5x4x3x2x1 WAP in which u take the user input and calculate the factorial for that number\n",
    "#fact = fact*n-1  n is iterator and decrement it  n-=1"
   ]
  },
  {
   "cell_type": "code",
   "execution_count": 21,
   "id": "b2403f79-8aa1-4247-b6bf-9f2cfa7e415e",
   "metadata": {},
   "outputs": [],
   "source": [
    "#check if a string is palindrome or not   "
   ]
  },
  {
   "cell_type": "code",
   "execution_count": 24,
   "id": "f8e60997-e259-4acc-89df-d1a1b495dc29",
   "metadata": {},
   "outputs": [
    {
     "name": "stdout",
     "output_type": "stream",
     "text": [
      "sdfds\n",
      "palindrome\n"
     ]
    }
   ],
   "source": [
    "str = \"sdfds\"\n",
    "s = str[::-1] #string_name[start:stop:step]\n",
    "print(s)\n",
    "if str == s:\n",
    "    print(\"palindrome\")\n",
    "else:\n",
    "    print(\"not palindrome\")"
   ]
  },
  {
   "cell_type": "code",
   "execution_count": 25,
   "id": "cccb75c9-42f7-4406-9377-014e79318a8e",
   "metadata": {},
   "outputs": [],
   "source": [
    "# take list and count the number of even and odd elements in the list "
   ]
  },
  {
   "cell_type": "code",
   "execution_count": 1,
   "id": "1e0e8280-018a-400e-94e8-5a5ba8cbccf4",
   "metadata": {},
   "outputs": [
    {
     "name": "stdout",
     "output_type": "stream",
     "text": [
      "True\n"
     ]
    }
   ],
   "source": [
    "#create a function  and take a integer as input and check if it is an armstrong number or not  \n",
    "# 153 = 1^3 + 5^3 + 3^3 = 153\n",
    "\n",
    "def armstrg(num):\n",
    "    nstr = str(num) #\"153\"\n",
    "    ndigits = len(nstr) #3\n",
    "    sum_pow = sum(int(poonam) ** ndigits for poonam in nstr)\n",
    "    return sum_pow == num\n",
    "num = 153\n",
    "print(armstrg(num))"
   ]
  },
  {
   "cell_type": "code",
   "execution_count": null,
   "id": "0e5d5ea0-970e-4368-90d8-5cebd5da9ea0",
   "metadata": {},
   "outputs": [],
   "source": []
  }
 ],
 "metadata": {
  "kernelspec": {
   "display_name": "Python 3 (ipykernel)",
   "language": "python",
   "name": "python3"
  },
  "language_info": {
   "codemirror_mode": {
    "name": "ipython",
    "version": 3
   },
   "file_extension": ".py",
   "mimetype": "text/x-python",
   "name": "python",
   "nbconvert_exporter": "python",
   "pygments_lexer": "ipython3",
   "version": "3.12.4"
  }
 },
 "nbformat": 4,
 "nbformat_minor": 5
}
